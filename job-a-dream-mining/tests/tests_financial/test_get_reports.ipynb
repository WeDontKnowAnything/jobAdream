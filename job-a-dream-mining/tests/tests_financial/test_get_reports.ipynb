{
 "cells": [
  {
   "cell_type": "code",
   "execution_count": 45,
   "metadata": {},
   "outputs": [],
   "source": [
    "import dart_fss\n",
    "import pandas as pd\n",
    "\n",
    "from env import settings\n"
   ]
  },
  {
   "cell_type": "code",
   "execution_count": 46,
   "metadata": {},
   "outputs": [],
   "source": [
    "def set_api_key():\n",
    "    api_key = settings.DART_API_KEY\n",
    "    dart_fss.set_api_key(api_key=api_key)"
   ]
  },
  {
   "cell_type": "code",
   "execution_count": 19,
   "metadata": {},
   "outputs": [
    {
     "data": {
      "text/plain": [
       "'CFS'"
      ]
     },
     "execution_count": 19,
     "metadata": {},
     "output_type": "execute_result"
    }
   ],
   "source": [
    "from enum import Enum, auto\n",
    "class Report(Enum):\n",
    "\n",
    "    REPORT_LIST = {\n",
    "            \"11013\": \"1분기\",\n",
    "            \"11012\": \"반기\",\n",
    "            \"11014\": \"3분기\",\n",
    "            \"11011\": \"사업\",\n",
    "        },\n",
    "    FS_DIV = [\"CFS\", \"OFS\"]  # (4) CFS : 연결재무제표 OFS : 재무제표\n",
    "\n",
    "report_name = Report.FS_DIV.value[0]\n",
    "report_name"
   ]
  },
  {
   "cell_type": "code",
   "execution_count": 15,
   "metadata": {},
   "outputs": [
    {
     "data": {
      "text/plain": [
       "'../data/listed_corps/상장법인목록_2024_08_09.csv'"
      ]
     },
     "execution_count": 15,
     "metadata": {},
     "output_type": "execute_result"
    }
   ],
   "source": [
    "from enum import Enum, auto\n",
    "\n",
    "\n",
    "class Path(Enum):\n",
    "    CSV2COMPARE_PATH = \"../data/listed_corps/상장법인목록_2024_08_09.csv\"\n",
    "compare_df = Path.CSV2COMPARE_PATH.value\n",
    "compare_df"
   ]
  },
  {
   "cell_type": "code",
   "execution_count": 47,
   "metadata": {},
   "outputs": [],
   "source": [
    "# corp = 회사\n",
    "# listed = 상장\n",
    "# delisted = 비상장\n",
    "def get_corps_df() -> pd.DataFrame:\n",
    "    all_corps = dart_fss.api.filings.get_corp_code()\n",
    "    all_corps_df = pd.DataFrame(all_corps)\n",
    "    corps_df = all_corps_df[all_corps_df[\"stock_code\"].notnull()].reset_index(\n",
    "        drop=True\n",
    "    )\n",
    "    return corps_df"
   ]
  },
  {
   "cell_type": "code",
   "execution_count": 48,
   "metadata": {},
   "outputs": [],
   "source": [
    "def get_report(corp_df, corp_name, bsns_year, report_code, fs_div):\n",
    "    # (1) corp_code : 기업코드\n",
    "    corp_code = corp_df[corp_df[\"corp_name\"] == corp_name].iloc[\n",
    "        0, 0\n",
    "    ]  # corp_df에서 corp_name에 해당하는 corp_code를 찾아 corp_code에 저장\n",
    "    \n",
    "    report_names_list = {\n",
    "        \"11013\": \"1분기\",\n",
    "        \"11012\": \"반기\",\n",
    "        \"11014\": \"3분기\",\n",
    "        \"11011\": \"사업\",\n",
    "    } # (3) 1분기보고서 : 11013 반기보고서 : 11012 3분기보고서 : 11014 사업보고서 : 11011\n",
    "    fs_div = [\"CFS\", \"OFS\"] # (4) CFS : 연결재무제표 OFS : 재무제표\n",
    "    report_name = report_names_list.get(report_code)\n",
    "    \n",
    "    # 만약 연결제무제표가 없다면 재무제표로 다시 시도\n",
    "    try:\n",
    "        data = dart_fss.api.finance.fnltt_singl_acnt_all(\n",
    "        corp_code, bsns_year, report_code, fs_div, api_key=None\n",
    "        )[\"list\"]\n",
    "    except:\n",
    "        # 해당 사업연도, 분기에 해당하는 재무제표가 없다면 다음 사업연도, 분기로 넘어간다.\n",
    "        print(f\"{corp_name}사의 {bsns_year}년 {report_name} 재무제표가 없습니다.\")\n",
    "        pass\n",
    "    else:\n",
    "        financial_report = pd.DataFrame(data)\n",
    "        financial_report.to_csv(\n",
    "            f\"test_data/{corp_name} {bsns_year}년 {report_name} 재무보고서.csv\", index=True\n",
    "        )"
   ]
  },
  {
   "cell_type": "code",
   "execution_count": 49,
   "metadata": {},
   "outputs": [],
   "source": [
    "# 상폐 기업 제거 함수\n",
    "def remove_delist_corps(corp_df) -> pd.DataFrame:\n",
    "    # CSV 파일 읽기\n",
    "    CSV2COMPARE_PATH = 'test_data/상장법인목록_2024_08_09.csv'\n",
    "    compare_df = pd.read_csv(CSV2COMPARE_PATH)\n",
    "\n",
    "    # 데이터 타입 변환\n",
    "    corp_df['stock_code'] = corp_df['stock_code'].astype(int)\n",
    "    compare_df['종목코드'] = compare_df['종목코드'].astype(int)\n",
    "\n",
    "    # 'stock_code'와 '종목코드'가 일치하는 행만 추출\n",
    "    merged_df = pd.merge(corp_df, compare_df, left_on='stock_code', right_on='종목코드')\n",
    "    result_df = merged_df[['corp_code', 'corp_name', 'stock_code']].sort_values(by='corp_name')\n",
    "    \n",
    "    # 결과를 새로운 CSV 파일로 저장\n",
    "    result_df.to_csv('listed_corps.csv', index=True)\n",
    "    return result_df"
   ]
  },
  {
   "cell_type": "code",
   "execution_count": 50,
   "metadata": {},
   "outputs": [],
   "source": [
    "def get_reports(public_companys_df):\n",
    "    corp_names = list(public_companys_df[\"corp_name\"])\n",
    "    bsns_years = [\n",
    "        \"2022\", \"2023\",\n",
    "    ]  # (1) 사업연도(4자리) ※ 2015년 이후 부터 정보제공\n",
    "    report_codes = [\"11013\", \"11012\", \"11014\", \"11011\"]\n",
    "    fs_div = \"CFS\"  # CFS:연결재무제표, OFS:재무제표\n",
    "    call_count = 0\n",
    "    max_call_count = 19000\n",
    "    start_word = '3S'\n",
    "    start_index = corp_names.index(start_word)\n",
    "    while call_count < max_call_count:\n",
    "        for corp_name in corp_names[start_index:]:\n",
    "            for bsns_year in bsns_years:\n",
    "                for report_code in report_codes:\n",
    "                    get_report(\n",
    "                        public_companys_df, corp_name, bsns_year, report_code, fs_div\n",
    "                    )\n",
    "                    call_count += 1\n",
    "        end_corp_name = corp_name\n",
    "        print(end_corp_name)\n",
    "    "
   ]
  },
  {
   "cell_type": "code",
   "execution_count": 51,
   "metadata": {},
   "outputs": [],
   "source": [
    "set_api_key()"
   ]
  },
  {
   "cell_type": "code",
   "execution_count": 52,
   "metadata": {},
   "outputs": [
    {
     "name": "stdout",
     "output_type": "stream",
     "text": [
      "                           \r"
     ]
    },
    {
     "data": {
      "text/html": [
       "<div>\n",
       "<style scoped>\n",
       "    .dataframe tbody tr th:only-of-type {\n",
       "        vertical-align: middle;\n",
       "    }\n",
       "\n",
       "    .dataframe tbody tr th {\n",
       "        vertical-align: top;\n",
       "    }\n",
       "\n",
       "    .dataframe thead th {\n",
       "        text-align: right;\n",
       "    }\n",
       "</style>\n",
       "<table border=\"1\" class=\"dataframe\">\n",
       "  <thead>\n",
       "    <tr style=\"text-align: right;\">\n",
       "      <th></th>\n",
       "      <th>corp_code</th>\n",
       "      <th>corp_name</th>\n",
       "      <th>stock_code</th>\n",
       "    </tr>\n",
       "  </thead>\n",
       "  <tbody>\n",
       "    <tr>\n",
       "      <th>2006</th>\n",
       "      <td>00378363</td>\n",
       "      <td>3S</td>\n",
       "      <td>60310</td>\n",
       "    </tr>\n",
       "    <tr>\n",
       "      <th>1779</th>\n",
       "      <td>00365387</td>\n",
       "      <td>AJ네트웍스</td>\n",
       "      <td>95570</td>\n",
       "    </tr>\n",
       "    <tr>\n",
       "      <th>379</th>\n",
       "      <td>00125080</td>\n",
       "      <td>AK홀딩스</td>\n",
       "      <td>6840</td>\n",
       "    </tr>\n",
       "    <tr>\n",
       "      <th>1865</th>\n",
       "      <td>00296078</td>\n",
       "      <td>APS</td>\n",
       "      <td>54620</td>\n",
       "    </tr>\n",
       "    <tr>\n",
       "      <th>685</th>\n",
       "      <td>01203808</td>\n",
       "      <td>AP시스템</td>\n",
       "      <td>265520</td>\n",
       "    </tr>\n",
       "    <tr>\n",
       "      <th>...</th>\n",
       "      <td>...</td>\n",
       "      <td>...</td>\n",
       "      <td>...</td>\n",
       "    </tr>\n",
       "    <tr>\n",
       "      <th>1503</th>\n",
       "      <td>00916516</td>\n",
       "      <td>흥국에프엔비</td>\n",
       "      <td>189980</td>\n",
       "    </tr>\n",
       "    <tr>\n",
       "      <th>2663</th>\n",
       "      <td>00103176</td>\n",
       "      <td>흥국화재</td>\n",
       "      <td>540</td>\n",
       "    </tr>\n",
       "    <tr>\n",
       "      <th>1663</th>\n",
       "      <td>00167208</td>\n",
       "      <td>흥아해운</td>\n",
       "      <td>3280</td>\n",
       "    </tr>\n",
       "    <tr>\n",
       "      <th>1461</th>\n",
       "      <td>00236863</td>\n",
       "      <td>희림</td>\n",
       "      <td>37440</td>\n",
       "    </tr>\n",
       "    <tr>\n",
       "      <th>70</th>\n",
       "      <td>00556712</td>\n",
       "      <td>힘스</td>\n",
       "      <td>238490</td>\n",
       "    </tr>\n",
       "  </tbody>\n",
       "</table>\n",
       "<p>2707 rows × 3 columns</p>\n",
       "</div>"
      ],
      "text/plain": [
       "     corp_code corp_name  stock_code\n",
       "2006  00378363        3S       60310\n",
       "1779  00365387    AJ네트웍스       95570\n",
       "379   00125080     AK홀딩스        6840\n",
       "1865  00296078       APS       54620\n",
       "685   01203808     AP시스템      265520\n",
       "...        ...       ...         ...\n",
       "1503  00916516    흥국에프엔비      189980\n",
       "2663  00103176      흥국화재         540\n",
       "1663  00167208      흥아해운        3280\n",
       "1461  00236863        희림       37440\n",
       "70    00556712        힘스      238490\n",
       "\n",
       "[2707 rows x 3 columns]"
      ]
     },
     "execution_count": 52,
     "metadata": {},
     "output_type": "execute_result"
    }
   ],
   "source": [
    "corps_df = get_corps_df()\n",
    "list_corps = remove_delist_corps(corps_df)\n",
    "\n",
    "list_corps"
   ]
  },
  {
   "cell_type": "code",
   "execution_count": 53,
   "metadata": {},
   "outputs": [
    {
     "name": "stdout",
     "output_type": "stream",
     "text": [
      "AP위성사의 2022년 1분기 재무제표가 없습니다.\n",
      "AP위성사의 2022년 반기 재무제표가 없습니다.\n",
      "AP위성사의 2022년 3분기 재무제표가 없습니다.\n",
      "AP위성사의 2022년 사업 재무제표가 없습니다.\n",
      "AP위성사의 2023년 1분기 재무제표가 없습니다.\n",
      "AP위성사의 2023년 반기 재무제표가 없습니다.\n",
      "AP위성사의 2023년 3분기 재무제표가 없습니다.\n",
      "AP위성사의 2023년 사업 재무제표가 없습니다.\n",
      "BGF리테일사의 2022년 3분기 재무제표가 없습니다.\n",
      "BNK금융지주사의 2022년 1분기 재무제표가 없습니다.\n",
      "BNK금융지주사의 2022년 반기 재무제표가 없습니다.\n",
      "BNK금융지주사의 2022년 3분기 재무제표가 없습니다.\n",
      "BNK금융지주사의 2022년 사업 재무제표가 없습니다.\n",
      "BNK금융지주사의 2023년 1분기 재무제표가 없습니다.\n",
      "BNK금융지주사의 2023년 반기 재무제표가 없습니다.\n"
     ]
    }
   ],
   "source": [
    "get_reports(list_corps)"
   ]
  }
 ],
 "metadata": {
  "kernelspec": {
   "display_name": ".venv",
   "language": "python",
   "name": "python3"
  },
  "language_info": {
   "codemirror_mode": {
    "name": "ipython",
    "version": 3
   },
   "file_extension": ".py",
   "mimetype": "text/x-python",
   "name": "python",
   "nbconvert_exporter": "python",
   "pygments_lexer": "ipython3",
   "version": "3.12.2"
  }
 },
 "nbformat": 4,
 "nbformat_minor": 2
}
