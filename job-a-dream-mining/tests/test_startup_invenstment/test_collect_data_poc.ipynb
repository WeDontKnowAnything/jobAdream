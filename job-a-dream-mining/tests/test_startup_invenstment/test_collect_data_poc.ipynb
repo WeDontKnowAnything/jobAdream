{
 "cells": [
  {
   "cell_type": "markdown",
   "metadata": {},
   "source": [
    "## 혁신의 숲\n",
    "\n",
    "- 스타트업 정보"
   ]
  },
  {
   "cell_type": "code",
   "execution_count": null,
   "metadata": {},
   "outputs": [
    {
     "ename": "",
     "evalue": "",
     "output_type": "error",
     "traceback": [
      "\u001b[1;31mRunning cells with '.venv (Python 3.12.4)' requires the ipykernel package.\n",
      "\u001b[1;31mRun the following command to install 'ipykernel' into the Python environment. \n",
      "\u001b[1;31mCommand: 'c:/dev/github/jobAdream/.venv/Scripts/python.exe -m pip install ipykernel -U --force-reinstall'"
     ]
    }
   ],
   "source": [
    "from selenium import webdriver\n",
    "from selenium.webdriver.common.by import By\n",
    "import csv\n",
    "import os\n",
    "\n",
    "def collect_data(page):\n",
    "    driver = webdriver.Chrome()\n",
    "    url = f\"https://www.innoforest.co.kr/dataroom?page={page}\"\n",
    "\n",
    "    # 브라우저 줌 레벨 50%로 설정\n",
    "    driver.get(\"chrome://settings/\")\n",
    "    driver.execute_script('chrome.settingsPrivate.setDefaultZoom(0.5);')\n",
    "    driver.get(url)\n",
    "    driver.implicitly_wait(3)\n",
    "\n",
    "    info_lst = driver.find_elements(By.CLASS_NAME, \"css-0\")\n",
    "    corp_info = []\n",
    "    for idx, info in enumerate(info_lst[2:]):\n",
    "        # corporation & product\n",
    "        name = info.find_element(By.CLASS_NAME, \"css-14o0uv\")\n",
    "        corp = name.find_element(By.CLASS_NAME, \"corp\")\n",
    "        prod = name.find_element(By.CLASS_NAME, \"prod\")\n",
    "\n",
    "        # details\n",
    "        description = info.find_element(By.CLASS_NAME, \"css-e0dnmk\")\n",
    "        investment_round = info.find_element(By.XPATH, f'//*[@id=\"__next\"]/main/div/div[2]/div/article[2]/table/tbody/tr[{idx+1}]/td[3]')\n",
    "        investment_employees = info.find_elements(By.CLASS_NAME, \"css-1ytuqjc\")\n",
    "        category = info.find_elements(By.CLASS_NAME, \"css-1u4hpl4\")\n",
    "        keyword = info.find_elements(By.CLASS_NAME, \"css-pzsc88\")\n",
    "\n",
    "        category_lst = []\n",
    "        for cate in category:\n",
    "            category_lst.append(cate.text)\n",
    "\n",
    "        keyword_lst = []\n",
    "        for key in keyword:\n",
    "            keyword_lst.append(key.text)\n",
    "        \n",
    "\n",
    "        corp_info.append({\n",
    "            'corporation': corp.text,\n",
    "            'product': prod.text,\n",
    "            'description': description.text,\n",
    "            'investment_round': investment_round.text,\n",
    "            'total_investment': investment_employees[0].text,\n",
    "            'revenue': investment_employees[1].text,\n",
    "            'employees': investment_employees[2].text,\n",
    "            'category': category_lst,\n",
    "            'keyword': keyword_lst,\n",
    "        })\n",
    "    driver.quit()\n",
    "    return corp_info\n",
    "\n",
    "# for page in range(1,507):\n",
    "page = 506\n",
    "corp_info = collect_data(page)\n",
    "csv_file = \"./Startup_SampleData.csv\"\n",
    "csv_columns = ['corporation', 'product', 'description', 'investment_round', 'total_investment', 'revenue', 'employees', 'category', 'keyword']\n",
    "# 새로 저장할  csv 파일 경로\n",
    "file_exists = os.path.isfile(csv_file)\n",
    "try:\n",
    "    with open(csv_file, 'a', newline='', encoding='utf-8') as csvfile:\n",
    "        writer = csv.DictWriter(csvfile, fieldnames=csv_columns)\n",
    "        # 새로 저장할 csv 파일 경로 존재하지 않으면, 생성\n",
    "        if not file_exists:\n",
    "            writer.writeheader()\n",
    "        for data in corp_info:\n",
    "            writer.writerow(data)\n",
    "    print(f\"{page} page: Data successfully saved to {csv_file}\")\n",
    "except IOError as e:\n",
    "    print(f\"Error saving to file: {e}\")"
   ]
  },
  {
   "cell_type": "code",
   "execution_count": 28,
   "metadata": {},
   "outputs": [
    {
     "name": "stdout",
     "output_type": "stream",
     "text": [
      "<class 'pandas.core.frame.DataFrame'>\n",
      "RangeIndex: 10120 entries, 0 to 10119\n",
      "Data columns (total 9 columns):\n",
      " #   Column            Non-Null Count  Dtype \n",
      "---  ------            --------------  ----- \n",
      " 0   corporation       10120 non-null  object\n",
      " 1   product           7591 non-null   object\n",
      " 2   description       10120 non-null  object\n",
      " 3   investment_round  10120 non-null  object\n",
      " 4   total_investment  10120 non-null  object\n",
      " 5   revenue           10120 non-null  object\n",
      " 6   employees         10120 non-null  object\n",
      " 7   category          10120 non-null  object\n",
      " 8   keyword           10120 non-null  object\n",
      "dtypes: object(9)\n",
      "memory usage: 711.7+ KB\n"
     ]
    }
   ],
   "source": [
    "import pandas as pd\n",
    "\n",
    "df = pd.read_csv(\"C:/dev/team1/Startup_SampleData.csv\")\n",
    "df.info()"
   ]
  },
  {
   "cell_type": "code",
   "execution_count": 22,
   "metadata": {},
   "outputs": [
    {
     "data": {
      "text/plain": [
       "2360"
      ]
     },
     "execution_count": 22,
     "metadata": {},
     "output_type": "execute_result"
    }
   ],
   "source": [
    "20*118"
   ]
  },
  {
   "cell_type": "code",
   "execution_count": 22,
   "metadata": {},
   "outputs": [
    {
     "data": {
      "text/plain": [
       "Index(['corporation', 'product', 'description', 'investment_round',\n",
       "       'total_investment', 'revenue', 'employees', 'category', 'keyword'],\n",
       "      dtype='object')"
      ]
     },
     "execution_count": 22,
     "metadata": {},
     "output_type": "execute_result"
    }
   ],
   "source": [
    "df.columns"
   ]
  }
 ],
 "metadata": {
  "kernelspec": {
   "display_name": ".venv",
   "language": "python",
   "name": "python3"
  },
  "language_info": {
   "codemirror_mode": {
    "name": "ipython",
    "version": 3
   },
   "file_extension": ".py",
   "mimetype": "text/x-python",
   "name": "python",
   "nbconvert_exporter": "python",
   "pygments_lexer": "ipython3",
   "version": "3.12.4"
  }
 },
 "nbformat": 4,
 "nbformat_minor": 2
}
