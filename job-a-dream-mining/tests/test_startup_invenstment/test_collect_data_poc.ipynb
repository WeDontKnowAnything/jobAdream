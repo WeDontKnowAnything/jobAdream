{
 "cells": [
  {
   "cell_type": "markdown",
   "metadata": {},
   "source": [
    "## 혁신의 숲\n",
    "\n",
    "- 스타트업 정보\n",
    "- 금액 단위: 억원\n",
    "- 인원 수 단위: 명"
   ]
  },
  {
   "cell_type": "code",
   "execution_count": 27,
   "metadata": {},
   "outputs": [
    {
     "name": "stdout",
     "output_type": "stream",
     "text": [
      "506 page: Data successfully saved to ./Startup_SampleData.csv\n"
     ]
    }
   ],
   "source": [
    "from selenium import webdriver\n",
    "from selenium.webdriver.common.by import By\n",
    "import csv\n",
    "import os\n",
    "\n",
    "def collect_data(page):\n",
    "    driver = webdriver.Chrome()\n",
    "    url = f\"https://www.innoforest.co.kr/dataroom?page={page}\"\n",
    "\n",
    "    # 브라우저 줌 레벨 50%로 설정\n",
    "    driver.get(\"chrome://settings/\")\n",
    "    driver.execute_script('chrome.settingsPrivate.setDefaultZoom(0.5);')\n",
    "    driver.get(url)\n",
    "    driver.implicitly_wait(3)\n",
    "\n",
    "    info_lst = driver.find_elements(By.CLASS_NAME, \"css-0\")\n",
    "    corp_info = []\n",
    "    for idx, info in enumerate(info_lst[2:]):\n",
    "        # corporation & product\n",
    "        name = info.find_element(By.CLASS_NAME, \"css-14o0uv\")\n",
    "        corp = name.find_element(By.CLASS_NAME, \"corp\")\n",
    "        prod = name.find_element(By.CLASS_NAME, \"prod\")\n",
    "\n",
    "        # details\n",
    "        description = info.find_element(By.CLASS_NAME, \"css-e0dnmk\")\n",
    "        investment_round = info.find_element(By.XPATH, f'//*[@id=\"__next\"]/main/div/div[2]/div/article[2]/table/tbody/tr[{idx+1}]/td[3]')\n",
    "        investment_employees = info.find_elements(By.CLASS_NAME, \"css-1ytuqjc\")\n",
    "        category = info.find_elements(By.CLASS_NAME, \"css-1u4hpl4\")\n",
    "        keyword = info.find_elements(By.CLASS_NAME, \"css-pzsc88\")\n",
    "\n",
    "        category_lst = []\n",
    "        for cate in category:\n",
    "            category_lst.append(cate.text)\n",
    "\n",
    "        keyword_lst = []\n",
    "        for key in keyword:\n",
    "            keyword_lst.append(key.text)\n",
    "        \n",
    "\n",
    "        corp_info.append({\n",
    "            'corporation': corp.text,\n",
    "            'product': prod.text,\n",
    "            'description': description.text,\n",
    "            'investment_round': investment_round.text,\n",
    "            'total_investment': investment_employees[0].text,\n",
    "            'revenue': investment_employees[1].text,\n",
    "            'employees': investment_employees[2].text,\n",
    "            'category': category_lst,\n",
    "            'keyword': keyword_lst,\n",
    "        })\n",
    "    driver.quit()\n",
    "    return corp_info\n",
    "\n",
    "for page in range(1,507):\n",
    "    corp_info = collect_data(page)\n",
    "    csv_file = \"./Startup_SampleData.csv\"\n",
    "    csv_columns = ['corporation', 'product', 'description', 'investment_round', 'total_investment', 'revenue', 'employees', 'category', 'keyword']\n",
    "    # 새로 저장할  csv 파일 경로\n",
    "    file_exists = os.path.isfile(csv_file)\n",
    "    try:\n",
    "        with open(csv_file, 'a', newline='', encoding='utf-8-sig') as csvfile:\n",
    "            writer = csv.DictWriter(csvfile, fieldnames=csv_columns)\n",
    "            # 새로 저장할 csv 파일 경로 존재하지 않으면, 생성\n",
    "            if not file_exists:\n",
    "                writer.writeheader()\n",
    "            for data in corp_info:\n",
    "                writer.writerow(data)\n",
    "        print(f\"{page} page: Data successfully saved to {csv_file}\")\n",
    "    except IOError as e:\n",
    "        print(f\"Error saving to file: {e}\")"
   ]
  },
  {
   "cell_type": "code",
   "execution_count": 1,
   "metadata": {},
   "outputs": [
    {
     "name": "stdout",
     "output_type": "stream",
     "text": [
      "<class 'pandas.core.frame.DataFrame'>\n",
      "RangeIndex: 10120 entries, 0 to 10119\n",
      "Data columns (total 9 columns):\n",
      " #   Column            Non-Null Count  Dtype \n",
      "---  ------            --------------  ----- \n",
      " 0   corporation       10120 non-null  object\n",
      " 1   product           7591 non-null   object\n",
      " 2   description       10120 non-null  object\n",
      " 3   investment_round  10120 non-null  object\n",
      " 4   total_investment  10120 non-null  object\n",
      " 5   revenue           10120 non-null  object\n",
      " 6   employees         10120 non-null  object\n",
      " 7   category          10120 non-null  object\n",
      " 8   keyword           10120 non-null  object\n",
      "dtypes: object(9)\n",
      "memory usage: 711.7+ KB\n"
     ]
    }
   ],
   "source": [
    "import pandas as pd\n",
    "\n",
    "df = pd.read_csv(\"C:/dev/team1/Startup_SampleData.csv\")\n",
    "df.info()"
   ]
  },
  {
   "cell_type": "code",
   "execution_count": 2,
   "metadata": {},
   "outputs": [
    {
     "data": {
      "text/html": [
       "<div>\n",
       "<style scoped>\n",
       "    .dataframe tbody tr th:only-of-type {\n",
       "        vertical-align: middle;\n",
       "    }\n",
       "\n",
       "    .dataframe tbody tr th {\n",
       "        vertical-align: top;\n",
       "    }\n",
       "\n",
       "    .dataframe thead th {\n",
       "        text-align: right;\n",
       "    }\n",
       "</style>\n",
       "<table border=\"1\" class=\"dataframe\">\n",
       "  <thead>\n",
       "    <tr style=\"text-align: right;\">\n",
       "      <th></th>\n",
       "      <th>corporation</th>\n",
       "      <th>product</th>\n",
       "      <th>description</th>\n",
       "      <th>investment_round</th>\n",
       "      <th>total_investment</th>\n",
       "      <th>revenue</th>\n",
       "      <th>employees</th>\n",
       "      <th>category</th>\n",
       "    </tr>\n",
       "  </thead>\n",
       "  <tbody>\n",
       "    <tr>\n",
       "      <th>0</th>\n",
       "      <td>레브잇\\n추천채용</td>\n",
       "      <td>올웨이즈</td>\n",
       "      <td>모바일 초저가 커머스 플랫폼 '올웨이즈'를 운영하는 기업</td>\n",
       "      <td>series B</td>\n",
       "      <td>853.0억원</td>\n",
       "      <td>-</td>\n",
       "      <td>85명</td>\n",
       "      <td>['커머스', ', 푸드/농업', '이커머스', ', 리뷰', ', 신선식품', '...</td>\n",
       "    </tr>\n",
       "    <tr>\n",
       "      <th>1</th>\n",
       "      <td>더휴식</td>\n",
       "      <td>더휴식</td>\n",
       "      <td>중소형 숙박업소 대상 솔루션을 운영하는 기업</td>\n",
       "      <td>series B</td>\n",
       "      <td>228.0억원</td>\n",
       "      <td>249.6억원</td>\n",
       "      <td>25명</td>\n",
       "      <td>['부동산/건설', '숙박', ', 인테리어', ', 리모델링', ', 건축', '...</td>\n",
       "    </tr>\n",
       "    <tr>\n",
       "      <th>2</th>\n",
       "      <td>두잇\\n추천채용</td>\n",
       "      <td>두잇</td>\n",
       "      <td>팀매칭 배달앱 '두잇'을 운영하는 기업</td>\n",
       "      <td>seed</td>\n",
       "      <td>26.0억원</td>\n",
       "      <td>99.9억원</td>\n",
       "      <td>47명</td>\n",
       "      <td>['물류', ', 푸드/농업', '배송', ', 배달', ', B2C', ', 플랫...</td>\n",
       "    </tr>\n",
       "    <tr>\n",
       "      <th>3</th>\n",
       "      <td>에이블리코퍼레이션\\n추천채용</td>\n",
       "      <td>에이블리</td>\n",
       "      <td>스타일 커머스 플랫폼 '에이블리'를 운영하는 기업</td>\n",
       "      <td>비공개</td>\n",
       "      <td>4,230.0억원</td>\n",
       "      <td>2,594.9억원</td>\n",
       "      <td>302명</td>\n",
       "      <td>['커머스', ', 패션', '이커머스', ', 리뷰', ', 의류', ', 신발'...</td>\n",
       "    </tr>\n",
       "    <tr>\n",
       "      <th>4</th>\n",
       "      <td>버킷플레이스\\n추천채용</td>\n",
       "      <td>오늘의집</td>\n",
       "      <td>인테리어 콘텐츠 공유 커뮤니티 및 커머스 플랫폼 '오늘의집'을 운영하는 기업</td>\n",
       "      <td>series D</td>\n",
       "      <td>3,180.0억원 이상</td>\n",
       "      <td>2,402.1억원</td>\n",
       "      <td>649명</td>\n",
       "      <td>['커머스', ', 소셜미디어/커뮤니티', ', 홈리빙/펫', '이커머스', ', ...</td>\n",
       "    </tr>\n",
       "  </tbody>\n",
       "</table>\n",
       "</div>"
      ],
      "text/plain": [
       "       corporation product                                 description  \\\n",
       "0        레브잇\\n추천채용    올웨이즈             모바일 초저가 커머스 플랫폼 '올웨이즈'를 운영하는 기업   \n",
       "1              더휴식     더휴식                    중소형 숙박업소 대상 솔루션을 운영하는 기업   \n",
       "2         두잇\\n추천채용      두잇                       팀매칭 배달앱 '두잇'을 운영하는 기업   \n",
       "3  에이블리코퍼레이션\\n추천채용    에이블리                 스타일 커머스 플랫폼 '에이블리'를 운영하는 기업   \n",
       "4     버킷플레이스\\n추천채용    오늘의집  인테리어 콘텐츠 공유 커뮤니티 및 커머스 플랫폼 '오늘의집'을 운영하는 기업   \n",
       "\n",
       "  investment_round total_investment    revenue employees  \\\n",
       "0         series B          853.0억원          -       85명   \n",
       "1         series B          228.0억원    249.6억원       25명   \n",
       "2             seed           26.0억원     99.9억원       47명   \n",
       "3              비공개        4,230.0억원  2,594.9억원      302명   \n",
       "4         series D     3,180.0억원 이상  2,402.1억원      649명   \n",
       "\n",
       "                                            category  \n",
       "0  ['커머스', ', 푸드/농업', '이커머스', ', 리뷰', ', 신선식품', '...  \n",
       "1  ['부동산/건설', '숙박', ', 인테리어', ', 리모델링', ', 건축', '...  \n",
       "2  ['물류', ', 푸드/농업', '배송', ', 배달', ', B2C', ', 플랫...  \n",
       "3  ['커머스', ', 패션', '이커머스', ', 리뷰', ', 의류', ', 신발'...  \n",
       "4  ['커머스', ', 소셜미디어/커뮤니티', ', 홈리빙/펫', '이커머스', ', ...  "
      ]
     },
     "execution_count": 2,
     "metadata": {},
     "output_type": "execute_result"
    }
   ],
   "source": [
    "df = df.drop(columns='keyword')\n",
    "df.head()"
   ]
  },
  {
   "cell_type": "code",
   "execution_count": 3,
   "metadata": {},
   "outputs": [
    {
     "data": {
      "text/html": [
       "<div>\n",
       "<style scoped>\n",
       "    .dataframe tbody tr th:only-of-type {\n",
       "        vertical-align: middle;\n",
       "    }\n",
       "\n",
       "    .dataframe tbody tr th {\n",
       "        vertical-align: top;\n",
       "    }\n",
       "\n",
       "    .dataframe thead th {\n",
       "        text-align: right;\n",
       "    }\n",
       "</style>\n",
       "<table border=\"1\" class=\"dataframe\">\n",
       "  <thead>\n",
       "    <tr style=\"text-align: right;\">\n",
       "      <th></th>\n",
       "      <th>corporation</th>\n",
       "      <th>product</th>\n",
       "      <th>description</th>\n",
       "      <th>investment_round</th>\n",
       "      <th>total_investment</th>\n",
       "      <th>revenue</th>\n",
       "      <th>employees</th>\n",
       "      <th>category</th>\n",
       "    </tr>\n",
       "  </thead>\n",
       "  <tbody>\n",
       "    <tr>\n",
       "      <th>0</th>\n",
       "      <td>레브잇</td>\n",
       "      <td>올웨이즈</td>\n",
       "      <td>모바일 초저가 커머스 플랫폼 '올웨이즈'를 운영하는 기업</td>\n",
       "      <td>series B</td>\n",
       "      <td>853.0억원</td>\n",
       "      <td>-</td>\n",
       "      <td>85명</td>\n",
       "      <td>['커머스', ', 푸드/농업', '이커머스', ', 리뷰', ', 신선식품', '...</td>\n",
       "    </tr>\n",
       "    <tr>\n",
       "      <th>1</th>\n",
       "      <td>더휴식</td>\n",
       "      <td>더휴식</td>\n",
       "      <td>중소형 숙박업소 대상 솔루션을 운영하는 기업</td>\n",
       "      <td>series B</td>\n",
       "      <td>228.0억원</td>\n",
       "      <td>249.6억원</td>\n",
       "      <td>25명</td>\n",
       "      <td>['부동산/건설', '숙박', ', 인테리어', ', 리모델링', ', 건축', '...</td>\n",
       "    </tr>\n",
       "    <tr>\n",
       "      <th>2</th>\n",
       "      <td>두잇</td>\n",
       "      <td>두잇</td>\n",
       "      <td>팀매칭 배달앱 '두잇'을 운영하는 기업</td>\n",
       "      <td>seed</td>\n",
       "      <td>26.0억원</td>\n",
       "      <td>99.9억원</td>\n",
       "      <td>47명</td>\n",
       "      <td>['물류', ', 푸드/농업', '배송', ', 배달', ', B2C', ', 플랫...</td>\n",
       "    </tr>\n",
       "    <tr>\n",
       "      <th>3</th>\n",
       "      <td>에이블리코퍼레이션</td>\n",
       "      <td>에이블리</td>\n",
       "      <td>스타일 커머스 플랫폼 '에이블리'를 운영하는 기업</td>\n",
       "      <td>비공개</td>\n",
       "      <td>4,230.0억원</td>\n",
       "      <td>2,594.9억원</td>\n",
       "      <td>302명</td>\n",
       "      <td>['커머스', ', 패션', '이커머스', ', 리뷰', ', 의류', ', 신발'...</td>\n",
       "    </tr>\n",
       "    <tr>\n",
       "      <th>4</th>\n",
       "      <td>버킷플레이스</td>\n",
       "      <td>오늘의집</td>\n",
       "      <td>인테리어 콘텐츠 공유 커뮤니티 및 커머스 플랫폼 '오늘의집'을 운영하는 기업</td>\n",
       "      <td>series D</td>\n",
       "      <td>3,180.0억원 이상</td>\n",
       "      <td>2,402.1억원</td>\n",
       "      <td>649명</td>\n",
       "      <td>['커머스', ', 소셜미디어/커뮤니티', ', 홈리빙/펫', '이커머스', ', ...</td>\n",
       "    </tr>\n",
       "  </tbody>\n",
       "</table>\n",
       "</div>"
      ],
      "text/plain": [
       "  corporation product                                 description  \\\n",
       "0         레브잇    올웨이즈             모바일 초저가 커머스 플랫폼 '올웨이즈'를 운영하는 기업   \n",
       "1         더휴식     더휴식                    중소형 숙박업소 대상 솔루션을 운영하는 기업   \n",
       "2          두잇      두잇                       팀매칭 배달앱 '두잇'을 운영하는 기업   \n",
       "3   에이블리코퍼레이션    에이블리                 스타일 커머스 플랫폼 '에이블리'를 운영하는 기업   \n",
       "4      버킷플레이스    오늘의집  인테리어 콘텐츠 공유 커뮤니티 및 커머스 플랫폼 '오늘의집'을 운영하는 기업   \n",
       "\n",
       "  investment_round total_investment    revenue employees  \\\n",
       "0         series B          853.0억원          -       85명   \n",
       "1         series B          228.0억원    249.6억원       25명   \n",
       "2             seed           26.0억원     99.9억원       47명   \n",
       "3              비공개        4,230.0억원  2,594.9억원      302명   \n",
       "4         series D     3,180.0억원 이상  2,402.1억원      649명   \n",
       "\n",
       "                                            category  \n",
       "0  ['커머스', ', 푸드/농업', '이커머스', ', 리뷰', ', 신선식품', '...  \n",
       "1  ['부동산/건설', '숙박', ', 인테리어', ', 리모델링', ', 건축', '...  \n",
       "2  ['물류', ', 푸드/농업', '배송', ', 배달', ', B2C', ', 플랫...  \n",
       "3  ['커머스', ', 패션', '이커머스', ', 리뷰', ', 의류', ', 신발'...  \n",
       "4  ['커머스', ', 소셜미디어/커뮤니티', ', 홈리빙/펫', '이커머스', ', ...  "
      ]
     },
     "execution_count": 3,
     "metadata": {},
     "output_type": "execute_result"
    }
   ],
   "source": [
    "df['corporation'] = df['corporation'].str.split('\\n').str[0]\n",
    "df.head()"
   ]
  },
  {
   "cell_type": "code",
   "execution_count": 4,
   "metadata": {},
   "outputs": [
    {
     "data": {
      "text/plain": [
       "0        ['커머스', ', 푸드/농업', '이커머스', ', 리뷰', ', 신선식품', '...\n",
       "1        ['부동산/건설', '숙박', ', 인테리어', ', 리모델링', ', 건축', '...\n",
       "2        ['물류', ', 푸드/농업', '배송', ', 배달', ', B2C', ', 플랫...\n",
       "3        ['커머스', ', 패션', '이커머스', ', 리뷰', ', 의류', ', 신발'...\n",
       "4        ['커머스', ', 소셜미디어/커뮤니티', ', 홈리빙/펫', '이커머스', ', ...\n",
       "                               ...                        \n",
       "10115    ['커머스', ', 인사/비즈니스/법률', '유통', ', 조직관리/조직문화', '...\n",
       "10116    ['인사/비즈니스/법률', '아웃소싱', ', 세무', ', 회계', ', B2B'...\n",
       "10117    ['광고/마케팅', ', 인사/비즈니스/법률', '마케팅솔루션', ', B2B', ...\n",
       "10118            ['인사/비즈니스/법률', '문서작성', ', 통번역', ', 여성창업']\n",
       "10119    ['피트니스/스포츠', 'PT/피트니스', ', 스포츠/운동', ', B2C', '...\n",
       "Name: category, Length: 10120, dtype: object"
      ]
     },
     "execution_count": 4,
     "metadata": {},
     "output_type": "execute_result"
    }
   ],
   "source": [
    "df['category']"
   ]
  },
  {
   "cell_type": "code",
   "execution_count": 11,
   "metadata": {},
   "outputs": [
    {
     "name": "stderr",
     "output_type": "stream",
     "text": [
      "<>:1: SyntaxWarning: invalid escape sequence '\\['\n",
      "<>:1: SyntaxWarning: invalid escape sequence '\\['\n",
      "C:\\Users\\user\\AppData\\Local\\Temp\\ipykernel_4768\\3365596418.py:1: SyntaxWarning: invalid escape sequence '\\['\n",
      "  df['category'] = df['category'].str.replace('[\\[\\]]', '', regex=True)\n"
     ]
    },
    {
     "data": {
      "text/plain": [
       "0                  커머스, 푸드/농업, 이커머스, 리뷰, 신선식품, 가공식품, 리워드, \n",
       "1                    부동산/건설, 숙박, 인테리어, 리모델링, 건축, 설계, B2B, \n",
       "2           물류, 푸드/농업, 배송, 배달, B2C, 플랫폼/마켓플레이스, APP, WEB, \n",
       "3           커머스, 패션, 이커머스, 리뷰, 의류, 신발, 패션잡화, 쥬얼리, 인공지능, , \n",
       "4        커머스, 소셜미디어/커뮤니티, 홈리빙/펫, 이커머스, 커뮤니티, 가구, 인테리어, ...\n",
       "                               ...                        \n",
       "10115       커머스, 인사/비즈니스/법률, 유통, 조직관리/조직문화, CRM, 교육/컨설팅/용역\n",
       "10116         인사/비즈니스/법률, 아웃소싱, 세무, 회계, B2B, 용역, 교육/컨설팅/용역\n",
       "10117    광고/마케팅, 인사/비즈니스/법률, 마케팅솔루션, B2B, B2C, SaaS/엔터프...\n",
       "10118                          인사/비즈니스/법률, 문서작성, 통번역, 여성창업\n",
       "10119         피트니스/스포츠, PT/피트니스, 스포츠/운동, B2C, 플랫폼/마켓플레이스, \n",
       "Name: category, Length: 10119, dtype: object"
      ]
     },
     "execution_count": 11,
     "metadata": {},
     "output_type": "execute_result"
    }
   ],
   "source": [
    "df['category'] = df['category'].str.replace('[\\[\\]]', '', regex=True)\n",
    "df['category'] = df['category'].str.replace(\"'\", '', regex=True)\n",
    "df['category'] = df['category'].str.replace(\",\", '', regex=True)\n",
    "df['category'] = df['category'].str.replace(\"  \", ' ', regex=True)\n",
    "df['category'] = df['category'].str.replace(\" \", ', ', regex=True)\n",
    "df['category']"
   ]
  },
  {
   "cell_type": "code",
   "execution_count": null,
   "metadata": {},
   "outputs": [],
   "source": [
    "df = df.rename(columns={'category': 'keyword'})"
   ]
  },
  {
   "cell_type": "code",
   "execution_count": 16,
   "metadata": {},
   "outputs": [
    {
     "data": {
      "text/plain": [
       "0                    커머스, 푸드/농업, 이커머스, 리뷰, 신선식품, 가공식품, 리워드\n",
       "1                      부동산/건설, 숙박, 인테리어, 리모델링, 건축, 설계, B2B\n",
       "2             물류, 푸드/농업, 배송, 배달, B2C, 플랫폼/마켓플레이스, APP, WEB\n",
       "3               커머스, 패션, 이커머스, 리뷰, 의류, 신발, 패션잡화, 쥬얼리, 인공지능\n",
       "4        커머스, 소셜미디어/커뮤니티, 홈리빙/펫, 이커머스, 커뮤니티, 가구, 인테리어, ...\n",
       "                               ...                        \n",
       "10115       커머스, 인사/비즈니스/법률, 유통, 조직관리/조직문화, CRM, 교육/컨설팅/용역\n",
       "10116         인사/비즈니스/법률, 아웃소싱, 세무, 회계, B2B, 용역, 교육/컨설팅/용역\n",
       "10117    광고/마케팅, 인사/비즈니스/법률, 마케팅솔루션, B2B, B2C, SaaS/엔터프라이즈\n",
       "10118                          인사/비즈니스/법률, 문서작성, 통번역, 여성창업\n",
       "10119           피트니스/스포츠, PT/피트니스, 스포츠/운동, B2C, 플랫폼/마켓플레이스\n",
       "Name: keyword, Length: 10119, dtype: object"
      ]
     },
     "execution_count": 16,
     "metadata": {},
     "output_type": "execute_result"
    }
   ],
   "source": [
    "# 두 번 수행\n",
    "df['keyword'] = df['keyword'].str.rstrip(', ')\n",
    "df['keyword'] "
   ]
  },
  {
   "cell_type": "code",
   "execution_count": 13,
   "metadata": {},
   "outputs": [
    {
     "data": {
      "text/plain": [
       "Index(['corporation', 'product', 'description', 'investment_round',\n",
       "       'total_investment', 'revenue', 'employees', 'keyword'],\n",
       "      dtype='object')"
      ]
     },
     "execution_count": 13,
     "metadata": {},
     "output_type": "execute_result"
    }
   ],
   "source": [
    "df.columns"
   ]
  },
  {
   "cell_type": "code",
   "execution_count": 17,
   "metadata": {},
   "outputs": [],
   "source": [
    "df.to_csv(\"C:/dev/team1/Startup_SampleData.csv\")"
   ]
  }
 ],
 "metadata": {
  "kernelspec": {
   "display_name": ".venv",
   "language": "python",
   "name": "python3"
  },
  "language_info": {
   "codemirror_mode": {
    "name": "ipython",
    "version": 3
   },
   "file_extension": ".py",
   "mimetype": "text/x-python",
   "name": "python",
   "nbconvert_exporter": "python",
   "pygments_lexer": "ipython3",
   "version": "3.12.4"
  }
 },
 "nbformat": 4,
 "nbformat_minor": 2
}
